{
 "cells": [
  {
   "cell_type": "code",
   "execution_count": null,
   "id": "360e9b3e",
   "metadata": {},
   "outputs": [],
   "source": [
    "%pip -q install sagemaker==2.219.0 boto3\n",
    "\n",
    "import boto3, sagemaker, json, os, pandas as pd, subprocess, tarfile, time\n",
    "from sagemaker.estimator import Estimator\n",
    "\n",
    "session = sagemaker.Session()\n",
    "region = session.boto_region_name\n",
    "account = boto3.client(\"sts\").get_caller_identity()[\"Account\"]\n",
    "role = sagemaker.get_execution_role()\n",
    "\n",
    "repository = \"wine-quality-custom\"\n",
    "ecr = boto3.client(\"ecr\", region_name=region)\n",
    "\n",
    "# Create ECR repo if absent\n",
    "try:\n",
    "    ecr.create_repository(repositoryName=repository)\n",
    "except ecr.exceptions.RepositoryAlreadyExistsException:\n",
    "    pass\n",
    "\n",
    "ecr_uri = f\"{account}.dkr.ecr.{region}.amazonaws.com/{repository}:latest\"\n",
    "ecr_uri\n"
   ]
  },
  {
   "cell_type": "code",
   "execution_count": null,
   "id": "67bfcb21",
   "metadata": {},
   "outputs": [],
   "source": [
    "# Authenticate Docker to ECR\n",
    "auth = boto3.client(\"ecr\").get_authorization_token()\n",
    "!aws ecr get-login-password --region {region} | docker login --username AWS --password-stdin {account}.dkr.ecr.{region}.amazonaws.com\n"
   ]
  },
  {
   "cell_type": "code",
   "execution_count": null,
   "id": "ea3f97eb",
   "metadata": {},
   "outputs": [],
   "source": [
    "# Build & push image from sagemaker/custom_container/\n",
    "!cd ../custom_container && docker build -t {repository}:latest .\n",
    "!docker tag {repository}:latest {ecr_uri}\n",
    "!docker push {ecr_uri}\n"
   ]
  },
  {
   "cell_type": "code",
   "execution_count": null,
   "id": "e3fb3fcc",
   "metadata": {},
   "outputs": [],
   "source": [
    "# Prepare training data to S3\n",
    "UCI_RED = \"https://archive.ics.uci.edu/ml/machine-learning-databases/wine-quality/winequality-red.csv\"\n",
    "UCI_WHITE = \"https://archive.ics.uci.edu/ml/machine-learning-databases/wine-quality/winequality-white.csv\"\n",
    "red = pd.read_csv(UCI_RED, sep=\";\")\n",
    "white = pd.read_csv(UCI_WHITE, sep=\";\")\n",
    "df = pd.concat([red, white], ignore_index=True)\n",
    "df.to_csv(\"train.csv\", index=False)\n",
    "\n",
    "bucket = session.default_bucket()\n",
    "prefix = \"wine-quality-custom\"\n",
    "s3_train = session.upload_data(\"train.csv\", bucket=bucket, key_prefix=f\"{prefix}/input/train\")\n",
    "s3_train\n"
   ]
  },
  {
   "cell_type": "code",
   "execution_count": null,
   "id": "15e4bf9c",
   "metadata": {},
   "outputs": [],
   "source": [
    "# Run SageMaker training job using your custom image\n",
    "est = Estimator(\n",
    "    image_uri=ecr_uri,\n",
    "    role=role,\n",
    "    instance_count=1,\n",
    "    instance_type=\"ml.m5.large\",\n",
    "    sagemaker_session=session,\n",
    "    output_path=f\"s3://{bucket}/{prefix}/output\",\n",
    "    environment={\n",
    "        # Optional envs your program may read\n",
    "    },\n",
    ")\n",
    "\n",
    "# The container should expect /opt/ml/input/data/train/train.csv (your program/train.py reads remote data itself now)\n",
    "est.fit({\"train\": s3_train})\n"
   ]
  }
 ],
 "metadata": {
  "kernelspec": {
   "display_name": ".venv",
   "language": "python",
   "name": "python3"
  },
  "language_info": {
   "codemirror_mode": {
    "name": "ipython",
    "version": 3
   },
   "file_extension": ".py",
   "mimetype": "text/x-python",
   "name": "python",
   "nbconvert_exporter": "python",
   "pygments_lexer": "ipython3",
   "version": "3.13.1"
  }
 },
 "nbformat": 4,
 "nbformat_minor": 5
}
