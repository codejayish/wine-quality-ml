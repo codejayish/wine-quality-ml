{
 "cells": [
  {
   "cell_type": "code",
   "execution_count": 2,
   "id": "33678d71",
   "metadata": {},
   "outputs": [
    {
     "name": "stdout",
     "output_type": "stream",
     "text": [
      "Collecting numpy==1.26.4\n",
      "  Downloading numpy-1.26.4.tar.gz (15.8 MB)\n",
      "     ---------------------------------------- 0.0/15.8 MB ? eta -:--:--\n",
      "     - -------------------------------------- 0.5/15.8 MB 7.9 MB/s eta 0:00:02\n",
      "     ------- -------------------------------- 2.9/15.8 MB 8.7 MB/s eta 0:00:02\n",
      "     ------------- -------------------------- 5.2/15.8 MB 9.6 MB/s eta 0:00:02\n",
      "     ------------------ --------------------- 7.3/15.8 MB 10.0 MB/s eta 0:00:01\n",
      "     ------------------------ --------------- 9.7/15.8 MB 10.2 MB/s eta 0:00:01\n",
      "     ----------------------------- --------- 12.1/15.8 MB 10.4 MB/s eta 0:00:01\n",
      "     ----------------------------------- --- 14.4/15.8 MB 10.6 MB/s eta 0:00:01\n",
      "     ---------------------------------------- 15.8/15.8 MB 10.7 MB/s  0:00:01\n",
      "  Installing build dependencies: started\n",
      "  Installing build dependencies: finished with status 'done'\n",
      "  Getting requirements to build wheel: started\n",
      "  Getting requirements to build wheel: finished with status 'done'\n",
      "  Installing backend dependencies: started\n",
      "  Installing backend dependencies: finished with status 'done'\n",
      "  Preparing metadata (pyproject.toml): started\n",
      "  Preparing metadata (pyproject.toml): finished with status 'error'\n",
      "Note: you may need to restart the kernel to use updated packages.\n"
     ]
    },
    {
     "name": "stderr",
     "output_type": "stream",
     "text": [
      "  error: subprocess-exited-with-error\n",
      "  \n",
      "  × Preparing metadata (pyproject.toml) did not run successfully.\n",
      "  │ exit code: 1\n",
      "  ╰─> [19 lines of output]\n",
      "      + c:\\Users\\mudav\\Desktop\\web development\\.venv\\Scripts\\python.exe C:\\Users\\mudav\\AppData\\Local\\Temp\\pip-install-we5si9no\\numpy_b6e7527b481c479ea28192663d255778\\vendored-meson\\meson\\meson.py setup C:\\Users\\mudav\\AppData\\Local\\Temp\\pip-install-we5si9no\\numpy_b6e7527b481c479ea28192663d255778 C:\\Users\\mudav\\AppData\\Local\\Temp\\pip-install-we5si9no\\numpy_b6e7527b481c479ea28192663d255778\\.mesonpy-re_uk085 -Dbuildtype=release -Db_ndebug=if-release -Db_vscrt=md --native-file=C:\\Users\\mudav\\AppData\\Local\\Temp\\pip-install-we5si9no\\numpy_b6e7527b481c479ea28192663d255778\\.mesonpy-re_uk085\\meson-python-native-file.ini\n",
      "      The Meson build system\n",
      "      Version: 1.2.99\n",
      "      Source dir: C:\\Users\\mudav\\AppData\\Local\\Temp\\pip-install-we5si9no\\numpy_b6e7527b481c479ea28192663d255778\n",
      "      Build dir: C:\\Users\\mudav\\AppData\\Local\\Temp\\pip-install-we5si9no\\numpy_b6e7527b481c479ea28192663d255778\\.mesonpy-re_uk085\n",
      "      Build type: native build\n",
      "      Project name: NumPy\n",
      "      Project version: 1.26.4\n",
      "      C compiler for the host machine: gcc (gcc 6.3.0 \"gcc (MinGW.org GCC-6.3.0-1) 6.3.0\")\n",
      "      C linker for the host machine: gcc ld.bfd 2.28\n",
      "      C++ compiler for the host machine: c++ (gcc 6.3.0 \"c++ (MinGW.org GCC-6.3.0-1) 6.3.0\")\n",
      "      C++ linker for the host machine: c++ ld.bfd 2.28\n",
      "      Cython compiler for the host machine: cython (cython 3.0.12)\n",
      "      Host machine cpu family: x86\n",
      "      Host machine cpu: x86\n",
      "      \n",
      "      ..\\meson.build:28:4: ERROR: Problem encountered: NumPy requires GCC >= 8.4\n",
      "      \n",
      "      A full log can be found at C:\\Users\\mudav\\AppData\\Local\\Temp\\pip-install-we5si9no\\numpy_b6e7527b481c479ea28192663d255778\\.mesonpy-re_uk085\\meson-logs\\meson-log.txt\n",
      "      [end of output]\n",
      "  \n",
      "  note: This error originates from a subprocess, and is likely not a problem with pip.\n",
      "error: metadata-generation-failed\n",
      "\n",
      "× Encountered error while generating package metadata.\n",
      "╰─> See above for output.\n",
      "\n",
      "note: This is an issue with the package mentioned above, not pip.\n",
      "hint: See above for details.\n"
     ]
    }
   ],
   "source": [
    "pip install --no-cache-dir numpy==1.26.4 pandas==2.2.2 scikit-learn==1.5.1"
   ]
  },
  {
   "cell_type": "code",
   "execution_count": 3,
   "id": "7d75e69f",
   "metadata": {},
   "outputs": [
    {
     "name": "stdout",
     "output_type": "stream",
     "text": [
      "Requirement already satisfied: pip in c:\\users\\mudav\\desktop\\web development\\.venv\\lib\\site-packages (25.2)\n",
      "Requirement already satisfied: setuptools in c:\\users\\mudav\\desktop\\web development\\.venv\\lib\\site-packages (80.9.0)\n",
      "Requirement already satisfied: wheel in c:\\users\\mudav\\desktop\\web development\\.venv\\lib\\site-packages (0.45.1)\n"
     ]
    }
   ],
   "source": [
    "!pip install --upgrade pip setuptools wheel"
   ]
  },
  {
   "cell_type": "code",
   "execution_count": 6,
   "id": "51c451b4",
   "metadata": {},
   "outputs": [
    {
     "name": "stdout",
     "output_type": "stream",
     "text": [
      "Collecting numpy==1.26.4\n",
      "  Using cached numpy-1.26.4.tar.gz (15.8 MB)\n",
      "  Installing build dependencies: started\n",
      "  Installing build dependencies: finished with status 'done'\n",
      "  Getting requirements to build wheel: started\n",
      "  Getting requirements to build wheel: finished with status 'done'\n",
      "  Installing backend dependencies: started\n",
      "  Installing backend dependencies: finished with status 'done'\n",
      "  Preparing metadata (pyproject.toml): started\n",
      "  Preparing metadata (pyproject.toml): finished with status 'error'\n",
      "Note: you may need to restart the kernel to use updated packages.\n"
     ]
    },
    {
     "name": "stderr",
     "output_type": "stream",
     "text": [
      "  error: subprocess-exited-with-error\n",
      "  \n",
      "  × Preparing metadata (pyproject.toml) did not run successfully.\n",
      "  │ exit code: 1\n",
      "  ╰─> [19 lines of output]\n",
      "      + c:\\Users\\mudav\\Desktop\\web development\\.venv\\Scripts\\python.exe C:\\Users\\mudav\\AppData\\Local\\Temp\\pip-install-tj5e9gqg\\numpy_361d00b9384445ff90c42a1d060b43f1\\vendored-meson\\meson\\meson.py setup C:\\Users\\mudav\\AppData\\Local\\Temp\\pip-install-tj5e9gqg\\numpy_361d00b9384445ff90c42a1d060b43f1 C:\\Users\\mudav\\AppData\\Local\\Temp\\pip-install-tj5e9gqg\\numpy_361d00b9384445ff90c42a1d060b43f1\\.mesonpy-5gn_mcp4 -Dbuildtype=release -Db_ndebug=if-release -Db_vscrt=md --native-file=C:\\Users\\mudav\\AppData\\Local\\Temp\\pip-install-tj5e9gqg\\numpy_361d00b9384445ff90c42a1d060b43f1\\.mesonpy-5gn_mcp4\\meson-python-native-file.ini\n",
      "      The Meson build system\n",
      "      Version: 1.2.99\n",
      "      Source dir: C:\\Users\\mudav\\AppData\\Local\\Temp\\pip-install-tj5e9gqg\\numpy_361d00b9384445ff90c42a1d060b43f1\n",
      "      Build dir: C:\\Users\\mudav\\AppData\\Local\\Temp\\pip-install-tj5e9gqg\\numpy_361d00b9384445ff90c42a1d060b43f1\\.mesonpy-5gn_mcp4\n",
      "      Build type: native build\n",
      "      Project name: NumPy\n",
      "      Project version: 1.26.4\n",
      "      C compiler for the host machine: gcc (gcc 6.3.0 \"gcc (MinGW.org GCC-6.3.0-1) 6.3.0\")\n",
      "      C linker for the host machine: gcc ld.bfd 2.28\n",
      "      C++ compiler for the host machine: c++ (gcc 6.3.0 \"c++ (MinGW.org GCC-6.3.0-1) 6.3.0\")\n",
      "      C++ linker for the host machine: c++ ld.bfd 2.28\n",
      "      Cython compiler for the host machine: cython (cython 3.0.12)\n",
      "      Host machine cpu family: x86\n",
      "      Host machine cpu: x86\n",
      "      \n",
      "      ..\\meson.build:28:4: ERROR: Problem encountered: NumPy requires GCC >= 8.4\n",
      "      \n",
      "      A full log can be found at C:\\Users\\mudav\\AppData\\Local\\Temp\\pip-install-tj5e9gqg\\numpy_361d00b9384445ff90c42a1d060b43f1\\.mesonpy-5gn_mcp4\\meson-logs\\meson-log.txt\n",
      "      [end of output]\n",
      "  \n",
      "  note: This error originates from a subprocess, and is likely not a problem with pip.\n",
      "error: metadata-generation-failed\n",
      "\n",
      "× Encountered error while generating package metadata.\n",
      "╰─> See above for output.\n",
      "\n",
      "note: This is an issue with the package mentioned above, not pip.\n",
      "hint: See above for details.\n"
     ]
    }
   ],
   "source": [
    "pip install numpy==1.26.4 pandas==2.2.2 scikit-learn==1.4.2 joblib flask gunicorn"
   ]
  },
  {
   "cell_type": "code",
   "execution_count": 8,
   "id": "e94924ac",
   "metadata": {},
   "outputs": [
    {
     "name": "stdout",
     "output_type": "stream",
     "text": [
      "Collecting sagemaker==2.219.0\n",
      "  Using cached sagemaker-2.219.0-py3-none-any.whl.metadata (14 kB)\n",
      "Collecting boto3\n",
      "  Using cached boto3-1.40.11-py3-none-any.whl.metadata (6.7 kB)\n",
      "Requirement already satisfied: pandas in c:\\users\\mudav\\desktop\\web development\\.venv\\lib\\site-packages (2.3.1)\n",
      "Collecting scikit-learn==1.5.1\n",
      "  Using cached scikit_learn-1.5.1.tar.gz (7.0 MB)\n",
      "  Installing build dependencies: started\n",
      "  Installing build dependencies: finished with status 'done'\n",
      "  Getting requirements to build wheel: started\n",
      "  Getting requirements to build wheel: finished with status 'done'\n",
      "  Installing backend dependencies: started\n",
      "  Installing backend dependencies: finished with status 'done'\n",
      "  Preparing metadata (pyproject.toml): started\n",
      "  Preparing metadata (pyproject.toml): finished with status 'error'\n",
      "Note: you may need to restart the kernel to use updated packages.\n"
     ]
    },
    {
     "name": "stderr",
     "output_type": "stream",
     "text": [
      "  error: subprocess-exited-with-error\n",
      "  \n",
      "  × Preparing metadata (pyproject.toml) did not run successfully.\n",
      "  │ exit code: 1\n",
      "  ╰─> [19 lines of output]\n",
      "      + meson setup C:\\Users\\mudav\\AppData\\Local\\Temp\\pip-install-ilcdhls3\\scikit-learn_1d78d279e4df449f83f26a29a3871fd4 C:\\Users\\mudav\\AppData\\Local\\Temp\\pip-install-ilcdhls3\\scikit-learn_1d78d279e4df449f83f26a29a3871fd4\\.mesonpy-lue8389w -Dbuildtype=release -Db_ndebug=if-release -Db_vscrt=md --native-file=C:\\Users\\mudav\\AppData\\Local\\Temp\\pip-install-ilcdhls3\\scikit-learn_1d78d279e4df449f83f26a29a3871fd4\\.mesonpy-lue8389w\\meson-python-native-file.ini\n",
      "      The Meson build system\n",
      "      Version: 1.8.3\n",
      "      Source dir: C:\\Users\\mudav\\AppData\\Local\\Temp\\pip-install-ilcdhls3\\scikit-learn_1d78d279e4df449f83f26a29a3871fd4\n",
      "      Build dir: C:\\Users\\mudav\\AppData\\Local\\Temp\\pip-install-ilcdhls3\\scikit-learn_1d78d279e4df449f83f26a29a3871fd4\\.mesonpy-lue8389w\n",
      "      Build type: native build\n",
      "      Project name: scikit-learn\n",
      "      Project version: 1.5.1\n",
      "      C compiler for the host machine: gcc (gcc 6.3.0 \"gcc (MinGW.org GCC-6.3.0-1) 6.3.0\")\n",
      "      C linker for the host machine: gcc ld.bfd 2.28\n",
      "      C++ compiler for the host machine: c++ (gcc 6.3.0 \"c++ (MinGW.org GCC-6.3.0-1) 6.3.0\")\n",
      "      C++ linker for the host machine: c++ ld.bfd 2.28\n",
      "      Cython compiler for the host machine: cython (cython 3.1.3)\n",
      "      Host machine cpu family: x86\n",
      "      Host machine cpu: x86\n",
      "      \n",
      "      ..\\meson.build:20:4: ERROR: Problem encountered: scikit-learn requires GCC >= 8.0\n",
      "      \n",
      "      A full log can be found at C:\\Users\\mudav\\AppData\\Local\\Temp\\pip-install-ilcdhls3\\scikit-learn_1d78d279e4df449f83f26a29a3871fd4\\.mesonpy-lue8389w\\meson-logs\\meson-log.txt\n",
      "      [end of output]\n",
      "  \n",
      "  note: This error originates from a subprocess, and is likely not a problem with pip.\n",
      "error: metadata-generation-failed\n",
      "\n",
      "× Encountered error while generating package metadata.\n",
      "╰─> See above for output.\n",
      "\n",
      "note: This is an issue with the package mentioned above, not pip.\n",
      "hint: See above for details.\n"
     ]
    }
   ],
   "source": [
    "pip install sagemaker==2.219.0 boto3 pandas scikit-learn==1.5.1\n"
   ]
  },
  {
   "cell_type": "code",
   "execution_count": 13,
   "id": "a102dc2e",
   "metadata": {},
   "outputs": [
    {
     "name": "stdout",
     "output_type": "stream",
     "text": [
      "Collecting sagemaker\n",
      "  Using cached sagemaker-2.250.0-py3-none-any.whl.metadata (17 kB)\n",
      "Collecting boto3\n",
      "  Using cached boto3-1.40.11-py3-none-any.whl.metadata (6.7 kB)\n",
      "Requirement already satisfied: pandas in c:\\users\\mudav\\desktop\\web development\\.venv\\lib\\site-packages (2.3.1)\n",
      "Requirement already satisfied: numpy in c:\\users\\mudav\\desktop\\web development\\.venv\\lib\\site-packages (2.3.2)\n",
      "Collecting attrs<26,>=24 (from sagemaker)\n",
      "  Using cached attrs-25.3.0-py3-none-any.whl.metadata (10 kB)\n",
      "Collecting cloudpickle>=2.2.1 (from sagemaker)\n",
      "  Using cached cloudpickle-3.1.1-py3-none-any.whl.metadata (7.1 kB)\n",
      "Collecting docker (from sagemaker)\n",
      "  Using cached docker-7.1.0-py3-none-any.whl.metadata (3.8 kB)\n",
      "Collecting fastapi (from sagemaker)\n",
      "  Using cached fastapi-0.116.1-py3-none-any.whl.metadata (28 kB)\n",
      "Collecting google-pasta (from sagemaker)\n",
      "  Using cached google_pasta-0.2.0-py3-none-any.whl.metadata (814 bytes)\n",
      "Collecting graphene<4,>=3 (from sagemaker)\n",
      "  Using cached graphene-3.4.3-py2.py3-none-any.whl.metadata (6.9 kB)\n",
      "Collecting importlib-metadata<7.0,>=1.4.0 (from sagemaker)\n",
      "  Using cached importlib_metadata-6.11.0-py3-none-any.whl.metadata (4.9 kB)\n",
      "Collecting jsonschema (from sagemaker)\n",
      "  Using cached jsonschema-4.25.0-py3-none-any.whl.metadata (7.7 kB)\n",
      "Collecting numpy\n",
      "  Using cached numpy-1.26.4.tar.gz (15.8 MB)\n",
      "  Installing build dependencies: started\n",
      "  Installing build dependencies: finished with status 'done'\n",
      "  Getting requirements to build wheel: started\n",
      "  Getting requirements to build wheel: finished with status 'done'\n",
      "  Installing backend dependencies: started\n",
      "  Installing backend dependencies: finished with status 'done'\n",
      "  Preparing metadata (pyproject.toml): started\n",
      "  Preparing metadata (pyproject.toml): finished with status 'error'\n",
      "Note: you may need to restart the kernel to use updated packages.\n"
     ]
    },
    {
     "name": "stderr",
     "output_type": "stream",
     "text": [
      "  error: subprocess-exited-with-error\n",
      "  \n",
      "  × Preparing metadata (pyproject.toml) did not run successfully.\n",
      "  │ exit code: 1\n",
      "  ╰─> [19 lines of output]\n",
      "      + c:\\Users\\mudav\\Desktop\\web development\\.venv\\Scripts\\python.exe C:\\Users\\mudav\\AppData\\Local\\Temp\\pip-install-312xlk_j\\numpy_2a2935178ae04ebca669ffdbca713f32\\vendored-meson\\meson\\meson.py setup C:\\Users\\mudav\\AppData\\Local\\Temp\\pip-install-312xlk_j\\numpy_2a2935178ae04ebca669ffdbca713f32 C:\\Users\\mudav\\AppData\\Local\\Temp\\pip-install-312xlk_j\\numpy_2a2935178ae04ebca669ffdbca713f32\\.mesonpy-v2fyufls -Dbuildtype=release -Db_ndebug=if-release -Db_vscrt=md --native-file=C:\\Users\\mudav\\AppData\\Local\\Temp\\pip-install-312xlk_j\\numpy_2a2935178ae04ebca669ffdbca713f32\\.mesonpy-v2fyufls\\meson-python-native-file.ini\n",
      "      The Meson build system\n",
      "      Version: 1.2.99\n",
      "      Source dir: C:\\Users\\mudav\\AppData\\Local\\Temp\\pip-install-312xlk_j\\numpy_2a2935178ae04ebca669ffdbca713f32\n",
      "      Build dir: C:\\Users\\mudav\\AppData\\Local\\Temp\\pip-install-312xlk_j\\numpy_2a2935178ae04ebca669ffdbca713f32\\.mesonpy-v2fyufls\n",
      "      Build type: native build\n",
      "      Project name: NumPy\n",
      "      Project version: 1.26.4\n",
      "      C compiler for the host machine: gcc (gcc 6.3.0 \"gcc (MinGW.org GCC-6.3.0-1) 6.3.0\")\n",
      "      C linker for the host machine: gcc ld.bfd 2.28\n",
      "      C++ compiler for the host machine: c++ (gcc 6.3.0 \"c++ (MinGW.org GCC-6.3.0-1) 6.3.0\")\n",
      "      C++ linker for the host machine: c++ ld.bfd 2.28\n",
      "      Cython compiler for the host machine: cython (cython 3.0.12)\n",
      "      Host machine cpu family: x86\n",
      "      Host machine cpu: x86\n",
      "      \n",
      "      ..\\meson.build:28:4: ERROR: Problem encountered: NumPy requires GCC >= 8.4\n",
      "      \n",
      "      A full log can be found at C:\\Users\\mudav\\AppData\\Local\\Temp\\pip-install-312xlk_j\\numpy_2a2935178ae04ebca669ffdbca713f32\\.mesonpy-v2fyufls\\meson-logs\\meson-log.txt\n",
      "      [end of output]\n",
      "  \n",
      "  note: This error originates from a subprocess, and is likely not a problem with pip.\n",
      "error: metadata-generation-failed\n",
      "\n",
      "× Encountered error while generating package metadata.\n",
      "╰─> See above for output.\n",
      "\n",
      "note: This is an issue with the package mentioned above, not pip.\n",
      "hint: See above for details.\n"
     ]
    }
   ],
   "source": [
    "pip install sagemaker boto3 pandas numpy\n"
   ]
  },
  {
   "cell_type": "code",
   "execution_count": 19,
   "id": "5eb28314",
   "metadata": {},
   "outputs": [
    {
     "ename": "SyntaxError",
     "evalue": "invalid syntax (4013889023.py, line 1)",
     "output_type": "error",
     "traceback": [
      "  \u001b[36mCell\u001b[39m\u001b[36m \u001b[39m\u001b[32mIn[19]\u001b[39m\u001b[32m, line 1\u001b[39m\n\u001b[31m    \u001b[39m\u001b[31mpython -m pip install --upgrade pip setuptools wheel\u001b[39m\n              ^\n\u001b[31mSyntaxError\u001b[39m\u001b[31m:\u001b[39m invalid syntax\n"
     ]
    }
   ],
   "source": [
    "python -m pip install --upgrade pip setuptools wheel\n",
    "\n",
    "# Uninstall broken scikit-learn if partially installed\n",
    "pip uninstall -y scikit-learn\n",
    "\n",
    "# Now install scikit-learn from prebuilt wheels\n",
    "pip install scikit-learn==1.5.1 --only-binary :all:\n"
   ]
  },
  {
   "cell_type": "code",
   "execution_count": 18,
   "id": "42d5c615",
   "metadata": {},
   "outputs": [
    {
     "name": "stdout",
     "output_type": "stream",
     "text": [
      "Collecting sagemaker==2.219.0\n",
      "  Using cached sagemaker-2.219.0-py3-none-any.whl.metadata (14 kB)\n",
      "Collecting boto3\n",
      "  Using cached boto3-1.40.11-py3-none-any.whl.metadata (6.7 kB)\n",
      "Requirement already satisfied: pandas in c:\\users\\mudav\\desktop\\web development\\.venv\\lib\\site-packages (2.3.1)\n",
      "Collecting scikit-learn==1.5.1\n",
      "  Using cached scikit_learn-1.5.1.tar.gz (7.0 MB)\n",
      "  Installing build dependencies: started\n",
      "  Installing build dependencies: finished with status 'done'\n",
      "  Getting requirements to build wheel: started\n",
      "  Getting requirements to build wheel: finished with status 'done'\n",
      "  Installing backend dependencies: started\n",
      "  Installing backend dependencies: finished with status 'done'\n",
      "  Preparing metadata (pyproject.toml): started\n",
      "  Preparing metadata (pyproject.toml): finished with status 'error'\n"
     ]
    },
    {
     "name": "stderr",
     "output_type": "stream",
     "text": [
      "  error: subprocess-exited-with-error\n",
      "  \n",
      "  × Preparing metadata (pyproject.toml) did not run successfully.\n",
      "  │ exit code: 1\n",
      "  ╰─> [19 lines of output]\n",
      "      + meson setup C:\\Users\\mudav\\AppData\\Local\\Temp\\pip-install-1c25q91z\\scikit-learn_b7aab7e14b024c3b9d10cb410310f596 C:\\Users\\mudav\\AppData\\Local\\Temp\\pip-install-1c25q91z\\scikit-learn_b7aab7e14b024c3b9d10cb410310f596\\.mesonpy-n1l2fgjc -Dbuildtype=release -Db_ndebug=if-release -Db_vscrt=md --native-file=C:\\Users\\mudav\\AppData\\Local\\Temp\\pip-install-1c25q91z\\scikit-learn_b7aab7e14b024c3b9d10cb410310f596\\.mesonpy-n1l2fgjc\\meson-python-native-file.ini\n",
      "      The Meson build system\n",
      "      Version: 1.8.3\n",
      "      Source dir: C:\\Users\\mudav\\AppData\\Local\\Temp\\pip-install-1c25q91z\\scikit-learn_b7aab7e14b024c3b9d10cb410310f596\n",
      "      Build dir: C:\\Users\\mudav\\AppData\\Local\\Temp\\pip-install-1c25q91z\\scikit-learn_b7aab7e14b024c3b9d10cb410310f596\\.mesonpy-n1l2fgjc\n",
      "      Build type: native build\n",
      "      Project name: scikit-learn\n",
      "      Project version: 1.5.1\n",
      "      C compiler for the host machine: gcc (gcc 6.3.0 \"gcc (MinGW.org GCC-6.3.0-1) 6.3.0\")\n",
      "      C linker for the host machine: gcc ld.bfd 2.28\n",
      "      C++ compiler for the host machine: c++ (gcc 6.3.0 \"c++ (MinGW.org GCC-6.3.0-1) 6.3.0\")\n",
      "      C++ linker for the host machine: c++ ld.bfd 2.28\n",
      "      Cython compiler for the host machine: cython (cython 3.1.3)\n",
      "      Host machine cpu family: x86\n",
      "      Host machine cpu: x86\n",
      "      \n",
      "      ..\\meson.build:20:4: ERROR: Problem encountered: scikit-learn requires GCC >= 8.0\n",
      "      \n",
      "      A full log can be found at C:\\Users\\mudav\\AppData\\Local\\Temp\\pip-install-1c25q91z\\scikit-learn_b7aab7e14b024c3b9d10cb410310f596\\.mesonpy-n1l2fgjc\\meson-logs\\meson-log.txt\n",
      "      [end of output]\n",
      "  \n",
      "  note: This error originates from a subprocess, and is likely not a problem with pip.\n",
      "error: metadata-generation-failed\n",
      "\n",
      "× Encountered error while generating package metadata.\n",
      "╰─> See above for output.\n",
      "\n",
      "note: This is an issue with the package mentioned above, not pip.\n",
      "hint: See above for details.\n"
     ]
    },
    {
     "ename": "ModuleNotFoundError",
     "evalue": "No module named 'sagemaker'",
     "output_type": "error",
     "traceback": [
      "\u001b[31m---------------------------------------------------------------------------\u001b[39m",
      "\u001b[31mModuleNotFoundError\u001b[39m                       Traceback (most recent call last)",
      "\u001b[36mCell\u001b[39m\u001b[36m \u001b[39m\u001b[32mIn[18]\u001b[39m\u001b[32m, line 4\u001b[39m\n\u001b[32m      1\u001b[39m \u001b[38;5;66;03m# Environment setup\u001b[39;00m\n\u001b[32m      2\u001b[39m get_ipython().system(\u001b[33m'\u001b[39m\u001b[33mpip install sagemaker==2.219.0 boto3 pandas scikit-learn==1.5.1 joblib\u001b[39m\u001b[33m'\u001b[39m)\n\u001b[32m----> \u001b[39m\u001b[32m4\u001b[39m \u001b[38;5;28;01mimport\u001b[39;00m\u001b[38;5;250m \u001b[39m\u001b[34;01msagemaker\u001b[39;00m,\u001b[38;5;250m \u001b[39m\u001b[34;01mboto3\u001b[39;00m,\u001b[38;5;250m \u001b[39m\u001b[34;01mpandas\u001b[39;00m\u001b[38;5;250m \u001b[39m\u001b[38;5;28;01mas\u001b[39;00m\u001b[38;5;250m \u001b[39m\u001b[34;01mpd\u001b[39;00m,\u001b[38;5;250m \u001b[39m\u001b[34;01mnumpy\u001b[39;00m\u001b[38;5;250m \u001b[39m\u001b[38;5;28;01mas\u001b[39;00m\u001b[38;5;250m \u001b[39m\u001b[34;01mnp\u001b[39;00m,\u001b[38;5;250m \u001b[39m\u001b[34;01mos\u001b[39;00m,\u001b[38;5;250m \u001b[39m\u001b[34;01mjson\u001b[39;00m\n\u001b[32m      5\u001b[39m \u001b[38;5;28;01mfrom\u001b[39;00m\u001b[38;5;250m \u001b[39m\u001b[34;01msagemaker\u001b[39;00m\u001b[34;01m.\u001b[39;00m\u001b[34;01msklearn\u001b[39;00m\u001b[38;5;250m \u001b[39m\u001b[38;5;28;01mimport\u001b[39;00m SKLearn\n\u001b[32m      6\u001b[39m \u001b[38;5;28;01mfrom\u001b[39;00m\u001b[38;5;250m \u001b[39m\u001b[34;01msagemaker\u001b[39;00m\u001b[38;5;250m \u001b[39m\u001b[38;5;28;01mimport\u001b[39;00m get_execution_role\n",
      "\u001b[31mModuleNotFoundError\u001b[39m: No module named 'sagemaker'"
     ]
    }
   ],
   "source": [
    "# Environment setup\n",
    "!pip install sagemaker==2.219.0 boto3 pandas scikit-learn==1.5.1 joblib\n",
    "\n",
    "import sagemaker, boto3, pandas as pd, numpy as np, os, json\n",
    "from sagemaker.sklearn import SKLearn\n",
    "from sagemaker import get_execution_role\n",
    "\n",
    "session = sagemaker.Session()\n",
    "region = session.boto_region_name\n",
    "s3 = boto3.client(\"s3\", region_name=region)\n",
    "\n",
    "try:\n",
    "    role = get_execution_role()\n",
    "except Exception:\n",
    "    role = \"arn:aws:iam::YOUR_ACCOUNT_ID:role/service-role/AmazonSageMaker-ExecutionRole\"\n",
    "\n",
    "bucket = session.default_bucket()\n",
    "prefix = \"wine-quality-linear\"\n",
    "\n",
    "print(\"Region:\", region)\n",
    "print(\"Bucket:\", bucket)\n",
    "print(\"Role:\", role)\n"
   ]
  }
 ],
 "metadata": {
  "kernelspec": {
   "display_name": ".venv",
   "language": "python",
   "name": "python3"
  },
  "language_info": {
   "codemirror_mode": {
    "name": "ipython",
    "version": 3
   },
   "file_extension": ".py",
   "mimetype": "text/x-python",
   "name": "python",
   "nbconvert_exporter": "python",
   "pygments_lexer": "ipython3",
   "version": "3.13.1"
  }
 },
 "nbformat": 4,
 "nbformat_minor": 5
}
