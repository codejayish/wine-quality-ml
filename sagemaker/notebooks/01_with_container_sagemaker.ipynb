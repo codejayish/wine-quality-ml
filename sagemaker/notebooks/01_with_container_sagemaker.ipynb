{
 "cells": [
  {
   "cell_type": "code",
   "execution_count": null,
   "id": "f10da2f9",
   "metadata": {},
   "outputs": [],
   "source": [
    "#  1. Building the Docker image from custom_container folder\n",
    "!cd ../custom_container && docker build -t wine-quality-model .\n"
   ]
  },
  {
   "cell_type": "code",
   "execution_count": null,
   "id": "ac4a3f7e",
   "metadata": {},
   "outputs": [],
   "source": [
    "#  2. Running the training inside container\n",
    "!docker run --rm -v $(pwd):/opt/ml wine-quality-model python /opt/ml/program/train.py\n"
   ]
  },
  {
   "cell_type": "code",
   "execution_count": null,
   "id": "33f5e945",
   "metadata": {},
   "outputs": [],
   "source": [
    "#  3. Starting inference server in background (Flask app inside container)\n",
    "!docker run -d -p 8080:8080 --name wine_server wine-quality-model\n"
   ]
  },
  {
   "cell_type": "code",
   "execution_count": null,
   "id": "f5764da5",
   "metadata": {},
   "outputs": [],
   "source": [
    "#  4. Sending the test request to server\n",
    "import requests, json\n",
    "\n",
    "# Sample Example wine sample input (fixed acidity, volatile acidity, etc.)\n",
    "sample_input = {\n",
    "    \"inputs\": [[7.4, 0.7, 0.0, 1.9, 0.076, 11.0, 34.0, 0.9978, 3.51, 0.56, 9.4]]\n",
    "}\n",
    "\n",
    "response = requests.post(\n",
    "    \"http://localhost:8080/predict\",\n",
    "    data=json.dumps(sample_input),\n",
    "    headers={\"Content-Type\": \"application/json\"},\n",
    ")\n",
    "print(\"Response:\", response.json())"
   ]
  },
  {
   "cell_type": "code",
   "execution_count": null,
   "id": "1ead31af",
   "metadata": {},
   "outputs": [],
   "source": [
    "#  5. Cleanup: stop and remove container\n",
    "!docker stop wine_server\n",
    "!docker rm wine_server\n"
   ]
  }
 ],
 "metadata": {
  "kernelspec": {
   "display_name": ".venv",
   "language": "python",
   "name": "python3"
  },
  "language_info": {
   "codemirror_mode": {
    "name": "ipython",
    "version": 3
   },
   "file_extension": ".py",
   "mimetype": "text/x-python",
   "name": "python",
   "nbconvert_exporter": "python",
   "pygments_lexer": "ipython3",
   "version": "3.13.1"
  }
 },
 "nbformat": 4,
 "nbformat_minor": 5
}
