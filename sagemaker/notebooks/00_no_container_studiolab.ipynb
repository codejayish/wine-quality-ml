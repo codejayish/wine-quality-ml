{
  "cells": [
    {
      "cell_type": "code",
      "execution_count": null,
      "metadata": {},
      "outputs": [],
      "source": [
        "# %pip installs (Studio/Studio Lab)\n",
        "%pip -q install sagemaker==2.219.0 boto3 scikit-learn==1.5.1 pandas\n",
        "\n",
        "import sagemaker, boto3, os, json, pandas as pd\n",
        "from sagemaker.sklearn import SKLearn\n",
        "from sagemaker import get_execution_role\n",
        "\n",
        "# Session & role\n",
        "session = sagemaker.Session()\n",
        "bucket = session.default_bucket()\n",
        "role = get_execution_role()  # in Studio/Studio Lab w/ IAM passthrough\n",
        "prefix = \"wine-quality-no-container\"\n",
        "\n",
        "# Data prep\n",
        "UCI_RED = \"https://archive.ics.uci.edu/ml/machine-learning-databases/wine-quality/winequality-red.csv\"\n",
        "UCI_WHITE = \"https://archive.ics.uci.edu/ml/machine-learning-databases/wine-quality/winequality-white.csv\"\n",
        "red = pd.read_csv(UCI_RED, sep=\";\")\n",
        "white = pd.read_csv(UCI_WHITE, sep=\";\")\n",
        "df = pd.concat([red, white], ignore_index=True)\n",
        "df.to_csv(\"train.csv\", index=False)\n",
        "\n",
        "# Upload to S3\n",
        "train_s3 = session.upload_data(\"train.csv\", bucket=bucket, key_prefix=f\"{prefix}/input/train\")\n",
        "train_s3\n",
        "\n"
      ]
    },
    {
      "cell_type": "code",
      "execution_count": null,
      "metadata": {},
      "outputs": [],
      "source": [
        "# Estimator using SageMaker-managed SKLearn container\n",
        "estimator = SKLearn(\n",
        "    entry_point=\"train.py\",\n",
        "    source_dir=\"../src\",        # <- points to sagemaker/src/train.py\n",
        "    role=role,\n",
        "    instance_type=\"ml.m5.large\",\n",
        "    framework_version=\"1.2-1\",\n",
        "    py_version=\"py3\",\n",
        "    sagemaker_session=session,\n",
        "    hyperparameters={\"target-col\": \"quality\"},\n",
        ")\n",
        "\n",
        "# Train\n",
        "estimator.fit({\"train\": train_s3})\n"
      ]
    },
    {
      "cell_type": "code",
      "execution_count": null,
      "metadata": {},
      "outputs": [],
      "source": [
        "# Deploy with custom inference handlers\n",
        "predictor = estimator.deploy(\n",
        "    initial_instance_count=1,\n",
        "    instance_type=\"ml.t2.medium\",\n",
        "    entry_point=\"inference.py\",\n",
        "    source_dir=\"../src\",\n",
        "    serializer=sagemaker.serializers.JSONSerializer(),\n",
        "    deserializer=sagemaker.deserializers.JSONDeserializer(),\n",
        ")\n"
      ]
    },
    {
      "cell_type": "code",
      "execution_count": null,
      "metadata": {},
      "outputs": [],
      "source": [
        "# Invoke\n",
        "sample = {\n",
        " \"fixed acidity\": 7.4, \"volatile acidity\": 0.70, \"citric acid\": 0.00,\n",
        " \"residual sugar\": 1.9, \"chlorides\": 0.076, \"free sulfur dioxide\": 11.0,\n",
        " \"total sulfur dioxide\": 34.0, \"density\": 0.9978, \"pH\": 3.51,\n",
        " \"sulfates\": 0.56, \"alcohol\": 9.4\n",
        "}\n",
        "predictor.predict({\"features\": sample})\n"
      ]
    },
    {
      "cell_type": "code",
      "execution_count": null,
      "metadata": {},
      "outputs": [],
      "source": [
        "# Cleanup\n",
        "predictor.delete_endpoint()\n"
      ]
    }
  ],
  "metadata": {
    "colab": {
      "provenance": []
    },
    "kernelspec": {
      "display_name": ".venv",
      "language": "python",
      "name": "python3"
    },
    "language_info": {
      "codemirror_mode": {
        "name": "ipython",
        "version": 3
      },
      "file_extension": ".py",
      "mimetype": "text/x-python",
      "name": "python",
      "nbconvert_exporter": "python",
      "pygments_lexer": "ipython3",
      "version": "3.13.1"
    }
  },
  "nbformat": 4,
  "nbformat_minor": 0
}
