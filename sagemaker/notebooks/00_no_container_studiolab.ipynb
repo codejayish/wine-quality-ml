{
  "cells": [
    {
      "cell_type": "code",
      "execution_count": null,
      "metadata": {},
      "outputs": [],
      "source": [
        "#  1. Install dependencies (Studio Lab usually has these, but just in case)\n",
        "!pip install scikit-learn pandas numpy joblib\n"
      ]
    },
    {
      "cell_type": "code",
      "execution_count": null,
      "metadata": {},
      "outputs": [],
      "source": [
        "#  2. Import libraries\n",
        "import pandas as pd\n",
        "from sklearn.linear_model import LinearRegression\n",
        "from sklearn.model_selection import train_test_split\n",
        "from sklearn.metrics import mean_squared_error\n",
        "import joblib\n"
      ]
    },
    {
      "cell_type": "code",
      "execution_count": null,
      "metadata": {},
      "outputs": [],
      "source": [
        "#  3. Load dataset (Wine Quality red wine dataset from UCI)\n",
        "DATA_PATH = \"https://archive.ics.uci.edu/ml/machine-learning-databases/wine-quality/winequality-red.csv\"\n",
        "\n",
        "df = pd.read_csv(DATA_PATH, sep=\";\")\n",
        "print(\"Dataset shape:\", df.shape)\n",
        "df.head()\n"
      ]
    },
    {
      "cell_type": "code",
      "execution_count": null,
      "metadata": {},
      "outputs": [],
      "source": [
        "#  4. Split into features (X) and target (y)\n",
        "X = df.drop(\"quality\", axis=1)\n",
        "y = df[\"quality\"]\n",
        "\n",
        "X_train, X_test, y_train, y_test = train_test_split(\n",
        "    X, y, test_size=0.2, random_state=42\n",
        ")\n"
      ]
    },
    {
      "cell_type": "code",
      "execution_count": null,
      "metadata": {},
      "outputs": [],
      "source": [
        "#  5. Train Linear Regression model\n",
        "model = LinearRegression()\n",
        "model.fit(X_train, y_train)\n",
        "\n",
        "# Evaluate\n",
        "y_pred = model.predict(X_test)\n",
        "mse = mean_squared_error(y_test, y_pred)\n",
        "print(f\"Test MSE: {mse:.4f}\")\n"
      ]
    },
    {
      "cell_type": "code",
      "execution_count": null,
      "metadata": {},
      "outputs": [],
      "source": [
        "#  6. Save trained model to disk\n",
        "joblib.dump(model, \"wine_model.pkl\")\n",
        "print(\"Model saved as wine_model.pkl\")\n"
      ]
    },
    {
      "cell_type": "code",
      "execution_count": null,
      "metadata": {},
      "outputs": [],
      "source": [
        "#  7. Load model back and test a sample prediction\n",
        "loaded_model = joblib.load(\"wine_model.pkl\")\n",
        "\n",
        "sample_input = [[7.4, 0.7, 0.0, 1.9, 0.076, 11.0, 34.0, \n",
        "                 0.9978, 3.51, 0.56, 9.4]]\n",
        "\n",
        "prediction = loaded_model.predict(sample_input)\n",
        "print(\"Predicted wine quality:\", prediction)\n"
      ]
    }
  ],
  "metadata": {
    "colab": {
      "provenance": []
    },
    "kernelspec": {
      "display_name": ".venv",
      "language": "python",
      "name": "python3"
    },
    "language_info": {
      "codemirror_mode": {
        "name": "ipython",
        "version": 3
      },
      "file_extension": ".py",
      "mimetype": "text/x-python",
      "name": "python",
      "nbconvert_exporter": "python",
      "pygments_lexer": "ipython3",
      "version": "3.13.1"
    }
  },
  "nbformat": 4,
  "nbformat_minor": 0
}
